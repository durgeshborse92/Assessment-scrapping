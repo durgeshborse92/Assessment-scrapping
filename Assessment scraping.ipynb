{
 "cells": [
  {
   "cell_type": "code",
   "execution_count": 1,
   "id": "dd27f2eb-afaa-490f-bb82-3cebf94087c1",
   "metadata": {},
   "outputs": [],
   "source": [
    "import requests\n",
    "from bs4 import BeautifulSoup"
   ]
  },
  {
   "cell_type": "code",
   "execution_count": 2,
   "id": "2368e193-1ff2-4848-a933-e02feefa4381",
   "metadata": {},
   "outputs": [],
   "source": [
    "head= {\"User-Agent\": \"Mozilla/5.0 (Windows NT 10.0; Win64; x64) AppleWebKit/537.36 (KHTML, like Gecko) Chrome/127.0.6533.100 Safari/537.36\",\n",
    "  \"Accept-Encoding\": \"gzip, deflate, br\",\n",
    "  \"Accept\": \"text/html,application/xhtml+xml,application/xml;q=0.9,image/webp,image/apng,*/*;q=0.8\",\n",
    "  \"Connection\": \"keep-alive\",\n",
    "  \"Accept-Language\": \"en-US,en;q=0.9,lt;q=0.8,et;q=0.7,de;q=0.6\"}"
   ]
  },
  {
   "cell_type": "code",
   "execution_count": 3,
   "id": "c6cbb5d8-a9b1-431d-bc2e-c3e7d6c38bf9",
   "metadata": {},
   "outputs": [],
   "source": [
    "import requests\n",
    "from bs4 import BeautifulSoup\n",
    "import pandas as pd\n",
    "\n",
    "def scrape_multiple_imdb_pages(urls):\n",
    "    # List to store data from each IMDb page\n",
    "    imdb_data_list = []\n",
    "\n",
    "    for url in urls:\n",
    "        # Fetch the HTML content from the URL\n",
    "        response = requests.get(url, headers={\"User-Agent\": \"Mozilla/5.0\"})\n",
    "\n",
    "        # Check if the request was successful\n",
    "        if response.status_code == 200:\n",
    "            content = response.content\n",
    "\n",
    "            # Parse the HTML content with BeautifulSoup\n",
    "            soup = BeautifulSoup(content, 'lxml')\n",
    "\n",
    "            # Extract IMDb details\n",
    "            try:\n",
    "                title = soup.find(\"span\", {\"class\": \"hero__primary-text\"}).text.strip()\n",
    "            except AttributeError:\n",
    "                title = None\n",
    "\n",
    "            try:\n",
    "                release_year = soup.find_all(\"ul\", {\"class\": \"ipc-inline-list ipc-inline-list--show-dividers sc-ec65ba05-2 joVhBE baseAlt\"}).text.strip()\n",
    "            except AttributeError:\n",
    "                release_year = None\n",
    "            try:\n",
    "                rating = soup.find(\"span\", {\"class\": \"sc-d541859f-1 imUuxf\"}).text.strip()\n",
    "            except AttributeError:\n",
    "                rating = None\n",
    "\n",
    "            try:\n",
    "                genre_elements = soup.find_all(\"span\", {\"class\": \"ipc-chip__text\"})\n",
    "                genres = [genre.text.strip() for genre in genre_elements]\n",
    "            except AttributeError:\n",
    "                genres = None\n",
    "\n",
    "            try:\n",
    "                director_element = soup.find(\"a\", {\"class\": \"ipc-metadata-list-item__list-content-item ipc-metadata-list-item__list-content-item--link\"})\n",
    "                director = director_element.text.strip() if director_element else None\n",
    "            except AttributeError:\n",
    "                director = None\n",
    "\n",
    "            try:\n",
    "                description = soup.find(\"span\", {\"data-testid\": \"plot-xs_to_m\"}).text.strip()\n",
    "            except AttributeError:\n",
    "                description = None\n",
    "\n",
    "            # Append the extracted data to the list\n",
    "            imdb_details = {\n",
    "                'Title': title,\n",
    "                'Release Year': release_year,\n",
    "                'Rating': rating,\n",
    "                'Genres': ', '.join(genres) if genres else None,\n",
    "                'Director': director,\n",
    "                'Description': description,\n",
    "                'URL': url\n",
    "            }\n",
    "            imdb_data_list.append(imdb_details)\n",
    "        else:\n",
    "            print(f\"Failed to retrieve data from {url}. Status code: {response.status_code}\")\n",
    "\n",
    "    # Create a DataFrame from the list of IMDb data\n",
    "    df = pd.DataFrame(imdb_data_list)\n",
    "\n",
    "    return df"
   ]
  },
  {
   "cell_type": "code",
   "execution_count": 4,
   "id": "d2bb871a-c74d-442b-a5ec-6bf6abbc86be",
   "metadata": {},
   "outputs": [],
   "source": [
    "Movie_title = [\"https://www.imdb.com/title/tt0111161/\",\n",
    "             \"https://www.imdb.com/title/tt0068646/\",\n",
    "             \"https://www.imdb.com/title/tt9362722/\"\n",
    "            ]"
   ]
  },
  {
   "cell_type": "code",
   "execution_count": 5,
   "id": "9c1c6743-3267-4cd5-9c1d-7535a046d2a2",
   "metadata": {},
   "outputs": [
    {
     "name": "stdout",
     "output_type": "stream",
     "text": [
      "['https://www.imdb.com/title/tt0111161/', 'https://www.imdb.com/title/tt0068646/', 'https://www.imdb.com/title/tt9362722/']\n"
     ]
    }
   ],
   "source": [
    "clean_links = []\n",
    "for link in Movie_title:\n",
    "  clean_links.append(link.split(\"?\")[0])\n",
    "print(clean_links)"
   ]
  },
  {
   "cell_type": "code",
   "execution_count": 6,
   "id": "68d6b1a5-789e-4306-aaac-8c8cf2e2f639",
   "metadata": {},
   "outputs": [],
   "source": [
    "df = scrape_multiple_imdb_pages(clean_links)"
   ]
  },
  {
   "cell_type": "code",
   "execution_count": 7,
   "id": "34e63854-2f65-445c-862d-f68e0e1a3e5d",
   "metadata": {},
   "outputs": [
    {
     "name": "stdout",
     "output_type": "stream",
     "text": [
      "<class 'pandas.core.frame.DataFrame'>\n",
      "RangeIndex: 3 entries, 0 to 2\n",
      "Data columns (total 7 columns):\n",
      " #   Column        Non-Null Count  Dtype \n",
      "---  ------        --------------  ----- \n",
      " 0   Title         3 non-null      object\n",
      " 1   Release Year  0 non-null      object\n",
      " 2   Rating        3 non-null      object\n",
      " 3   Genres        3 non-null      object\n",
      " 4   Director      3 non-null      object\n",
      " 5   Description   3 non-null      object\n",
      " 6   URL           3 non-null      object\n",
      "dtypes: object(7)\n",
      "memory usage: 300.0+ bytes\n"
     ]
    }
   ],
   "source": [
    "df.info()"
   ]
  },
  {
   "cell_type": "code",
   "execution_count": 8,
   "id": "08040749-d833-49c6-86af-7250151146c5",
   "metadata": {},
   "outputs": [
    {
     "data": {
      "text/html": [
       "<div>\n",
       "<style scoped>\n",
       "    .dataframe tbody tr th:only-of-type {\n",
       "        vertical-align: middle;\n",
       "    }\n",
       "\n",
       "    .dataframe tbody tr th {\n",
       "        vertical-align: top;\n",
       "    }\n",
       "\n",
       "    .dataframe thead th {\n",
       "        text-align: right;\n",
       "    }\n",
       "</style>\n",
       "<table border=\"1\" class=\"dataframe\">\n",
       "  <thead>\n",
       "    <tr style=\"text-align: right;\">\n",
       "      <th></th>\n",
       "      <th>Title</th>\n",
       "      <th>Release Year</th>\n",
       "      <th>Rating</th>\n",
       "      <th>Genres</th>\n",
       "      <th>Director</th>\n",
       "      <th>Description</th>\n",
       "      <th>URL</th>\n",
       "    </tr>\n",
       "  </thead>\n",
       "  <tbody>\n",
       "    <tr>\n",
       "      <th>0</th>\n",
       "      <td>The Shawshank Redemption</td>\n",
       "      <td>None</td>\n",
       "      <td>9.3</td>\n",
       "      <td>Epic, Period Drama, Prison Drama, Drama, Back ...</td>\n",
       "      <td>Frank Darabont</td>\n",
       "      <td>A banker convicted of uxoricide forms a friend...</td>\n",
       "      <td>https://www.imdb.com/title/tt0111161/</td>\n",
       "    </tr>\n",
       "    <tr>\n",
       "      <th>1</th>\n",
       "      <td>The Godfather</td>\n",
       "      <td>None</td>\n",
       "      <td>9.2</td>\n",
       "      <td>Epic, Gangster, Tragedy, Crime, Drama, Back to...</td>\n",
       "      <td>Francis Ford Coppola</td>\n",
       "      <td>The aging patriarch of an organized crime dyna...</td>\n",
       "      <td>https://www.imdb.com/title/tt0068646/</td>\n",
       "    </tr>\n",
       "    <tr>\n",
       "      <th>2</th>\n",
       "      <td>Spider-man: Across the Spider-verse</td>\n",
       "      <td>None</td>\n",
       "      <td>8.5</td>\n",
       "      <td>Computer Animation, Superhero, Supernatural Fa...</td>\n",
       "      <td>Joaquim Dos Santos</td>\n",
       "      <td>Miles Morales catapults across the multiverse,...</td>\n",
       "      <td>https://www.imdb.com/title/tt9362722/</td>\n",
       "    </tr>\n",
       "  </tbody>\n",
       "</table>\n",
       "</div>"
      ],
      "text/plain": [
       "                                 Title Release Year Rating  \\\n",
       "0             The Shawshank Redemption         None    9.3   \n",
       "1                        The Godfather         None    9.2   \n",
       "2  Spider-man: Across the Spider-verse         None    8.5   \n",
       "\n",
       "                                              Genres              Director  \\\n",
       "0  Epic, Period Drama, Prison Drama, Drama, Back ...        Frank Darabont   \n",
       "1  Epic, Gangster, Tragedy, Crime, Drama, Back to...  Francis Ford Coppola   \n",
       "2  Computer Animation, Superhero, Supernatural Fa...    Joaquim Dos Santos   \n",
       "\n",
       "                                         Description  \\\n",
       "0  A banker convicted of uxoricide forms a friend...   \n",
       "1  The aging patriarch of an organized crime dyna...   \n",
       "2  Miles Morales catapults across the multiverse,...   \n",
       "\n",
       "                                     URL  \n",
       "0  https://www.imdb.com/title/tt0111161/  \n",
       "1  https://www.imdb.com/title/tt0068646/  \n",
       "2  https://www.imdb.com/title/tt9362722/  "
      ]
     },
     "execution_count": 8,
     "metadata": {},
     "output_type": "execute_result"
    }
   ],
   "source": [
    "df.head()"
   ]
  },
  {
   "cell_type": "code",
   "execution_count": null,
   "id": "74af71e8-57f0-48b3-b1b4-e79d0126647f",
   "metadata": {},
   "outputs": [],
   "source": []
  }
 ],
 "metadata": {
  "kernelspec": {
   "display_name": "Python 3 (ipykernel)",
   "language": "python",
   "name": "python3"
  },
  "language_info": {
   "codemirror_mode": {
    "name": "ipython",
    "version": 3
   },
   "file_extension": ".py",
   "mimetype": "text/x-python",
   "name": "python",
   "nbconvert_exporter": "python",
   "pygments_lexer": "ipython3",
   "version": "3.12.4"
  }
 },
 "nbformat": 4,
 "nbformat_minor": 5
}
